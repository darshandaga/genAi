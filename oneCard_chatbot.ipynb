{
  "nbformat": 4,
  "nbformat_minor": 0,
  "metadata": {
    "colab": {
      "provenance": [],
      "gpuType": "T4"
    },
    "kernelspec": {
      "name": "python3",
      "display_name": "Python 3"
    },
    "language_info": {
      "name": "python"
    },
    "accelerator": "GPU",
    "widgets": {
      "application/vnd.jupyter.widget-state+json": {
        "3a8d7ce5ea984725aeaf7b83150e1030": {
          "model_module": "@jupyter-widgets/controls",
          "model_name": "HBoxModel",
          "model_module_version": "1.5.0",
          "state": {
            "_dom_classes": [],
            "_model_module": "@jupyter-widgets/controls",
            "_model_module_version": "1.5.0",
            "_model_name": "HBoxModel",
            "_view_count": null,
            "_view_module": "@jupyter-widgets/controls",
            "_view_module_version": "1.5.0",
            "_view_name": "HBoxView",
            "box_style": "",
            "children": [
              "IPY_MODEL_8356b818368b4865975f5e637f4ffdc8",
              "IPY_MODEL_ea8ed22b9e504c3eb9bc2edb8df42ea8",
              "IPY_MODEL_1c99cc33ca434256869a9bbf06912001"
            ],
            "layout": "IPY_MODEL_71c0b6f9e1c2459788a38fd02d9ff59a"
          }
        },
        "8356b818368b4865975f5e637f4ffdc8": {
          "model_module": "@jupyter-widgets/controls",
          "model_name": "HTMLModel",
          "model_module_version": "1.5.0",
          "state": {
            "_dom_classes": [],
            "_model_module": "@jupyter-widgets/controls",
            "_model_module_version": "1.5.0",
            "_model_name": "HTMLModel",
            "_view_count": null,
            "_view_module": "@jupyter-widgets/controls",
            "_view_module_version": "1.5.0",
            "_view_name": "HTMLView",
            "description": "",
            "description_tooltip": null,
            "layout": "IPY_MODEL_fa65cd8ca797410388187a2b370c4dd6",
            "placeholder": "​",
            "style": "IPY_MODEL_d322246f3ef34461a269cfe187092991",
            "value": "Loading checkpoint shards: 100%"
          }
        },
        "ea8ed22b9e504c3eb9bc2edb8df42ea8": {
          "model_module": "@jupyter-widgets/controls",
          "model_name": "FloatProgressModel",
          "model_module_version": "1.5.0",
          "state": {
            "_dom_classes": [],
            "_model_module": "@jupyter-widgets/controls",
            "_model_module_version": "1.5.0",
            "_model_name": "FloatProgressModel",
            "_view_count": null,
            "_view_module": "@jupyter-widgets/controls",
            "_view_module_version": "1.5.0",
            "_view_name": "ProgressView",
            "bar_style": "success",
            "description": "",
            "description_tooltip": null,
            "layout": "IPY_MODEL_8fb60e5c95ee44e991522632d7f64ced",
            "max": 2,
            "min": 0,
            "orientation": "horizontal",
            "style": "IPY_MODEL_a7505e748ed34cb5b17362beb1b9bd6f",
            "value": 2
          }
        },
        "1c99cc33ca434256869a9bbf06912001": {
          "model_module": "@jupyter-widgets/controls",
          "model_name": "HTMLModel",
          "model_module_version": "1.5.0",
          "state": {
            "_dom_classes": [],
            "_model_module": "@jupyter-widgets/controls",
            "_model_module_version": "1.5.0",
            "_model_name": "HTMLModel",
            "_view_count": null,
            "_view_module": "@jupyter-widgets/controls",
            "_view_module_version": "1.5.0",
            "_view_name": "HTMLView",
            "description": "",
            "description_tooltip": null,
            "layout": "IPY_MODEL_55d91aa90a5d4436b227360e67419237",
            "placeholder": "​",
            "style": "IPY_MODEL_c273e070a359476aa5e57661da8387d0",
            "value": " 2/2 [01:11&lt;00:00, 32.50s/it]"
          }
        },
        "71c0b6f9e1c2459788a38fd02d9ff59a": {
          "model_module": "@jupyter-widgets/base",
          "model_name": "LayoutModel",
          "model_module_version": "1.2.0",
          "state": {
            "_model_module": "@jupyter-widgets/base",
            "_model_module_version": "1.2.0",
            "_model_name": "LayoutModel",
            "_view_count": null,
            "_view_module": "@jupyter-widgets/base",
            "_view_module_version": "1.2.0",
            "_view_name": "LayoutView",
            "align_content": null,
            "align_items": null,
            "align_self": null,
            "border": null,
            "bottom": null,
            "display": null,
            "flex": null,
            "flex_flow": null,
            "grid_area": null,
            "grid_auto_columns": null,
            "grid_auto_flow": null,
            "grid_auto_rows": null,
            "grid_column": null,
            "grid_gap": null,
            "grid_row": null,
            "grid_template_areas": null,
            "grid_template_columns": null,
            "grid_template_rows": null,
            "height": null,
            "justify_content": null,
            "justify_items": null,
            "left": null,
            "margin": null,
            "max_height": null,
            "max_width": null,
            "min_height": null,
            "min_width": null,
            "object_fit": null,
            "object_position": null,
            "order": null,
            "overflow": null,
            "overflow_x": null,
            "overflow_y": null,
            "padding": null,
            "right": null,
            "top": null,
            "visibility": null,
            "width": null
          }
        },
        "fa65cd8ca797410388187a2b370c4dd6": {
          "model_module": "@jupyter-widgets/base",
          "model_name": "LayoutModel",
          "model_module_version": "1.2.0",
          "state": {
            "_model_module": "@jupyter-widgets/base",
            "_model_module_version": "1.2.0",
            "_model_name": "LayoutModel",
            "_view_count": null,
            "_view_module": "@jupyter-widgets/base",
            "_view_module_version": "1.2.0",
            "_view_name": "LayoutView",
            "align_content": null,
            "align_items": null,
            "align_self": null,
            "border": null,
            "bottom": null,
            "display": null,
            "flex": null,
            "flex_flow": null,
            "grid_area": null,
            "grid_auto_columns": null,
            "grid_auto_flow": null,
            "grid_auto_rows": null,
            "grid_column": null,
            "grid_gap": null,
            "grid_row": null,
            "grid_template_areas": null,
            "grid_template_columns": null,
            "grid_template_rows": null,
            "height": null,
            "justify_content": null,
            "justify_items": null,
            "left": null,
            "margin": null,
            "max_height": null,
            "max_width": null,
            "min_height": null,
            "min_width": null,
            "object_fit": null,
            "object_position": null,
            "order": null,
            "overflow": null,
            "overflow_x": null,
            "overflow_y": null,
            "padding": null,
            "right": null,
            "top": null,
            "visibility": null,
            "width": null
          }
        },
        "d322246f3ef34461a269cfe187092991": {
          "model_module": "@jupyter-widgets/controls",
          "model_name": "DescriptionStyleModel",
          "model_module_version": "1.5.0",
          "state": {
            "_model_module": "@jupyter-widgets/controls",
            "_model_module_version": "1.5.0",
            "_model_name": "DescriptionStyleModel",
            "_view_count": null,
            "_view_module": "@jupyter-widgets/base",
            "_view_module_version": "1.2.0",
            "_view_name": "StyleView",
            "description_width": ""
          }
        },
        "8fb60e5c95ee44e991522632d7f64ced": {
          "model_module": "@jupyter-widgets/base",
          "model_name": "LayoutModel",
          "model_module_version": "1.2.0",
          "state": {
            "_model_module": "@jupyter-widgets/base",
            "_model_module_version": "1.2.0",
            "_model_name": "LayoutModel",
            "_view_count": null,
            "_view_module": "@jupyter-widgets/base",
            "_view_module_version": "1.2.0",
            "_view_name": "LayoutView",
            "align_content": null,
            "align_items": null,
            "align_self": null,
            "border": null,
            "bottom": null,
            "display": null,
            "flex": null,
            "flex_flow": null,
            "grid_area": null,
            "grid_auto_columns": null,
            "grid_auto_flow": null,
            "grid_auto_rows": null,
            "grid_column": null,
            "grid_gap": null,
            "grid_row": null,
            "grid_template_areas": null,
            "grid_template_columns": null,
            "grid_template_rows": null,
            "height": null,
            "justify_content": null,
            "justify_items": null,
            "left": null,
            "margin": null,
            "max_height": null,
            "max_width": null,
            "min_height": null,
            "min_width": null,
            "object_fit": null,
            "object_position": null,
            "order": null,
            "overflow": null,
            "overflow_x": null,
            "overflow_y": null,
            "padding": null,
            "right": null,
            "top": null,
            "visibility": null,
            "width": null
          }
        },
        "a7505e748ed34cb5b17362beb1b9bd6f": {
          "model_module": "@jupyter-widgets/controls",
          "model_name": "ProgressStyleModel",
          "model_module_version": "1.5.0",
          "state": {
            "_model_module": "@jupyter-widgets/controls",
            "_model_module_version": "1.5.0",
            "_model_name": "ProgressStyleModel",
            "_view_count": null,
            "_view_module": "@jupyter-widgets/base",
            "_view_module_version": "1.2.0",
            "_view_name": "StyleView",
            "bar_color": null,
            "description_width": ""
          }
        },
        "55d91aa90a5d4436b227360e67419237": {
          "model_module": "@jupyter-widgets/base",
          "model_name": "LayoutModel",
          "model_module_version": "1.2.0",
          "state": {
            "_model_module": "@jupyter-widgets/base",
            "_model_module_version": "1.2.0",
            "_model_name": "LayoutModel",
            "_view_count": null,
            "_view_module": "@jupyter-widgets/base",
            "_view_module_version": "1.2.0",
            "_view_name": "LayoutView",
            "align_content": null,
            "align_items": null,
            "align_self": null,
            "border": null,
            "bottom": null,
            "display": null,
            "flex": null,
            "flex_flow": null,
            "grid_area": null,
            "grid_auto_columns": null,
            "grid_auto_flow": null,
            "grid_auto_rows": null,
            "grid_column": null,
            "grid_gap": null,
            "grid_row": null,
            "grid_template_areas": null,
            "grid_template_columns": null,
            "grid_template_rows": null,
            "height": null,
            "justify_content": null,
            "justify_items": null,
            "left": null,
            "margin": null,
            "max_height": null,
            "max_width": null,
            "min_height": null,
            "min_width": null,
            "object_fit": null,
            "object_position": null,
            "order": null,
            "overflow": null,
            "overflow_x": null,
            "overflow_y": null,
            "padding": null,
            "right": null,
            "top": null,
            "visibility": null,
            "width": null
          }
        },
        "c273e070a359476aa5e57661da8387d0": {
          "model_module": "@jupyter-widgets/controls",
          "model_name": "DescriptionStyleModel",
          "model_module_version": "1.5.0",
          "state": {
            "_model_module": "@jupyter-widgets/controls",
            "_model_module_version": "1.5.0",
            "_model_name": "DescriptionStyleModel",
            "_view_count": null,
            "_view_module": "@jupyter-widgets/base",
            "_view_module_version": "1.2.0",
            "_view_name": "StyleView",
            "description_width": ""
          }
        }
      }
    }
  },
  "cells": [
    {
      "cell_type": "markdown",
      "source": [
        " - Open LLMs: https://github.com/eugeneyan/open-llms\n",
        " - chat with Llama: https://www.llama2.ai/\n",
        " - Official Llama2 website: https://llama.meta.com/llama2\n",
        " - Llama2 github: https://github.com/meta-llama/llama"
      ],
      "metadata": {
        "id": "zEzGSFGf8Gc_"
      }
    },
    {
      "cell_type": "code",
      "execution_count": 1,
      "metadata": {
        "colab": {
          "base_uri": "https://localhost:8080/"
        },
        "id": "ff9dxYPE8BA2",
        "outputId": "7f380f2a-4b93-480a-e64a-539383a00ad3"
      },
      "outputs": [
        {
          "output_type": "stream",
          "name": "stdout",
          "text": [
            "Fri Jun 14 06:32:34 2024       \n",
            "+---------------------------------------------------------------------------------------+\n",
            "| NVIDIA-SMI 535.104.05             Driver Version: 535.104.05   CUDA Version: 12.2     |\n",
            "|-----------------------------------------+----------------------+----------------------+\n",
            "| GPU  Name                 Persistence-M | Bus-Id        Disp.A | Volatile Uncorr. ECC |\n",
            "| Fan  Temp   Perf          Pwr:Usage/Cap |         Memory-Usage | GPU-Util  Compute M. |\n",
            "|                                         |                      |               MIG M. |\n",
            "|=========================================+======================+======================|\n",
            "|   0  Tesla T4                       Off | 00000000:00:04.0 Off |                    0 |\n",
            "| N/A   45C    P8              10W /  70W |      0MiB / 15360MiB |      0%      Default |\n",
            "|                                         |                      |                  N/A |\n",
            "+-----------------------------------------+----------------------+----------------------+\n",
            "                                                                                         \n",
            "+---------------------------------------------------------------------------------------+\n",
            "| Processes:                                                                            |\n",
            "|  GPU   GI   CI        PID   Type   Process name                            GPU Memory |\n",
            "|        ID   ID                                                             Usage      |\n",
            "|=======================================================================================|\n",
            "|  No running processes found                                                           |\n",
            "+---------------------------------------------------------------------------------------+\n"
          ]
        }
      ],
      "source": [
        "!nvidia-smi"
      ]
    },
    {
      "cell_type": "code",
      "source": [
        "!pip install -q transformers einops accelerate langchain bitsandbytes"
      ],
      "metadata": {
        "id": "re0W9bQ-Ag7P"
      },
      "execution_count": 2,
      "outputs": []
    },
    {
      "cell_type": "code",
      "source": [
        "!pip -q install unstructured"
      ],
      "metadata": {
        "id": "M1P0zDfFXT8M"
      },
      "execution_count": 3,
      "outputs": []
    },
    {
      "cell_type": "code",
      "source": [
        "!pip install langchain-community"
      ],
      "metadata": {
        "colab": {
          "base_uri": "https://localhost:8080/"
        },
        "id": "uzNvyc4rXzXi",
        "outputId": "e9d207ee-5367-487a-ae6d-044784b3e767"
      },
      "execution_count": 4,
      "outputs": [
        {
          "output_type": "stream",
          "name": "stdout",
          "text": [
            "Requirement already satisfied: langchain-community in /usr/local/lib/python3.10/dist-packages (0.2.4)\n",
            "Requirement already satisfied: PyYAML>=5.3 in /usr/local/lib/python3.10/dist-packages (from langchain-community) (6.0.1)\n",
            "Requirement already satisfied: SQLAlchemy<3,>=1.4 in /usr/local/lib/python3.10/dist-packages (from langchain-community) (2.0.30)\n",
            "Requirement already satisfied: aiohttp<4.0.0,>=3.8.3 in /usr/local/lib/python3.10/dist-packages (from langchain-community) (3.9.5)\n",
            "Requirement already satisfied: dataclasses-json<0.7,>=0.5.7 in /usr/local/lib/python3.10/dist-packages (from langchain-community) (0.6.7)\n",
            "Requirement already satisfied: langchain<0.3.0,>=0.2.0 in /usr/local/lib/python3.10/dist-packages (from langchain-community) (0.2.4)\n",
            "Requirement already satisfied: langchain-core<0.3.0,>=0.2.0 in /usr/local/lib/python3.10/dist-packages (from langchain-community) (0.2.6)\n",
            "Requirement already satisfied: langsmith<0.2.0,>=0.1.0 in /usr/local/lib/python3.10/dist-packages (from langchain-community) (0.1.77)\n",
            "Requirement already satisfied: numpy<2,>=1 in /usr/local/lib/python3.10/dist-packages (from langchain-community) (1.25.2)\n",
            "Requirement already satisfied: requests<3,>=2 in /usr/local/lib/python3.10/dist-packages (from langchain-community) (2.31.0)\n",
            "Requirement already satisfied: tenacity<9.0.0,>=8.1.0 in /usr/local/lib/python3.10/dist-packages (from langchain-community) (8.3.0)\n",
            "Requirement already satisfied: aiosignal>=1.1.2 in /usr/local/lib/python3.10/dist-packages (from aiohttp<4.0.0,>=3.8.3->langchain-community) (1.3.1)\n",
            "Requirement already satisfied: attrs>=17.3.0 in /usr/local/lib/python3.10/dist-packages (from aiohttp<4.0.0,>=3.8.3->langchain-community) (23.2.0)\n",
            "Requirement already satisfied: frozenlist>=1.1.1 in /usr/local/lib/python3.10/dist-packages (from aiohttp<4.0.0,>=3.8.3->langchain-community) (1.4.1)\n",
            "Requirement already satisfied: multidict<7.0,>=4.5 in /usr/local/lib/python3.10/dist-packages (from aiohttp<4.0.0,>=3.8.3->langchain-community) (6.0.5)\n",
            "Requirement already satisfied: yarl<2.0,>=1.0 in /usr/local/lib/python3.10/dist-packages (from aiohttp<4.0.0,>=3.8.3->langchain-community) (1.9.4)\n",
            "Requirement already satisfied: async-timeout<5.0,>=4.0 in /usr/local/lib/python3.10/dist-packages (from aiohttp<4.0.0,>=3.8.3->langchain-community) (4.0.3)\n",
            "Requirement already satisfied: marshmallow<4.0.0,>=3.18.0 in /usr/local/lib/python3.10/dist-packages (from dataclasses-json<0.7,>=0.5.7->langchain-community) (3.21.3)\n",
            "Requirement already satisfied: typing-inspect<1,>=0.4.0 in /usr/local/lib/python3.10/dist-packages (from dataclasses-json<0.7,>=0.5.7->langchain-community) (0.9.0)\n",
            "Requirement already satisfied: langchain-text-splitters<0.3.0,>=0.2.0 in /usr/local/lib/python3.10/dist-packages (from langchain<0.3.0,>=0.2.0->langchain-community) (0.2.1)\n",
            "Requirement already satisfied: pydantic<3,>=1 in /usr/local/lib/python3.10/dist-packages (from langchain<0.3.0,>=0.2.0->langchain-community) (2.7.3)\n",
            "Requirement already satisfied: jsonpatch<2.0,>=1.33 in /usr/local/lib/python3.10/dist-packages (from langchain-core<0.3.0,>=0.2.0->langchain-community) (1.33)\n",
            "Requirement already satisfied: packaging<25,>=23.2 in /usr/local/lib/python3.10/dist-packages (from langchain-core<0.3.0,>=0.2.0->langchain-community) (24.1)\n",
            "Requirement already satisfied: orjson<4.0.0,>=3.9.14 in /usr/local/lib/python3.10/dist-packages (from langsmith<0.2.0,>=0.1.0->langchain-community) (3.10.5)\n",
            "Requirement already satisfied: charset-normalizer<4,>=2 in /usr/local/lib/python3.10/dist-packages (from requests<3,>=2->langchain-community) (3.3.2)\n",
            "Requirement already satisfied: idna<4,>=2.5 in /usr/local/lib/python3.10/dist-packages (from requests<3,>=2->langchain-community) (3.7)\n",
            "Requirement already satisfied: urllib3<3,>=1.21.1 in /usr/local/lib/python3.10/dist-packages (from requests<3,>=2->langchain-community) (2.0.7)\n",
            "Requirement already satisfied: certifi>=2017.4.17 in /usr/local/lib/python3.10/dist-packages (from requests<3,>=2->langchain-community) (2024.6.2)\n",
            "Requirement already satisfied: typing-extensions>=4.6.0 in /usr/local/lib/python3.10/dist-packages (from SQLAlchemy<3,>=1.4->langchain-community) (4.12.2)\n",
            "Requirement already satisfied: greenlet!=0.4.17 in /usr/local/lib/python3.10/dist-packages (from SQLAlchemy<3,>=1.4->langchain-community) (3.0.3)\n",
            "Requirement already satisfied: jsonpointer>=1.9 in /usr/local/lib/python3.10/dist-packages (from jsonpatch<2.0,>=1.33->langchain-core<0.3.0,>=0.2.0->langchain-community) (3.0.0)\n",
            "Requirement already satisfied: annotated-types>=0.4.0 in /usr/local/lib/python3.10/dist-packages (from pydantic<3,>=1->langchain<0.3.0,>=0.2.0->langchain-community) (0.7.0)\n",
            "Requirement already satisfied: pydantic-core==2.18.4 in /usr/local/lib/python3.10/dist-packages (from pydantic<3,>=1->langchain<0.3.0,>=0.2.0->langchain-community) (2.18.4)\n",
            "Requirement already satisfied: mypy-extensions>=0.3.0 in /usr/local/lib/python3.10/dist-packages (from typing-inspect<1,>=0.4.0->dataclasses-json<0.7,>=0.5.7->langchain-community) (1.0.0)\n"
          ]
        }
      ]
    },
    {
      "cell_type": "code",
      "source": [
        "from langchain.document_loaders import UnstructuredURLLoader\n",
        "from langchain.text_splitter import CharacterTextSplitter\n",
        "from langchain.embeddings import HuggingFaceEmbeddings"
      ],
      "metadata": {
        "id": "nVX93L9bXvxV"
      },
      "execution_count": 5,
      "outputs": []
    },
    {
      "cell_type": "code",
      "source": [
        "URLs = [\n",
        "    \"https://www.getonecard.app/\"\n",
        "]"
      ],
      "metadata": {
        "id": "gQJ3ZNyZXaYI"
      },
      "execution_count": 6,
      "outputs": []
    },
    {
      "cell_type": "code",
      "source": [
        "loader = UnstructuredURLLoader(urls = URLs)\n",
        "data = loader.load()"
      ],
      "metadata": {
        "id": "u566X31GXaa0"
      },
      "execution_count": 7,
      "outputs": []
    },
    {
      "cell_type": "code",
      "source": [
        "data"
      ],
      "metadata": {
        "colab": {
          "base_uri": "https://localhost:8080/"
        },
        "id": "A40PyCnVXadJ",
        "outputId": "89c61fc0-3dd8-4136-c5dc-3f2d6eb8123b"
      },
      "execution_count": 8,
      "outputs": [
        {
          "output_type": "execute_result",
          "data": {
            "text/plain": [
              "[Document(page_content=\"Apply Now\\n\\nHome\\n\\nAbout Us\\n\\nOffers\\n\\nBlog\\n\\nFAQ\\n\\nContact Us\\n\\nSay Hi to\\n\\nOne Credit Card\\n\\nCo-branded Card Issuers :\\n\\nIndia's best metal credit card. Built with full-stack tech. Backed by the principles of simplicity,\\n            transparency, and giving back control to the user.\\n\\nApply Now\\n\\nNo Hidden Fees Ever.\\n\\nNo Joining Fees.\\n\\nNo Annual Fees.\\n\\nNo Rewards Redemption Fees.\\n\\n\\n            Powerful \\n\\nmobile app\\n\\nControl all aspects of your One credit card from the powerful OneCard app - transaction limit, domestic/international use, online/offline use, contactless payments and much more.\\n\\nIt's metal\\n\\nA co-branded credit card that is exclusive, and exquisitely crafted with metal, because you deserve only the best. Why settle for plastic cards anymore?\\n\\n\\n            Seamless\\n            \\n\\non-boarding\\n\\nGet started using a completely digital on-boarding process, and activate your One Credit Card in less than 5 minutes.\\n\\n5X rewards on your top spends\\n\\n5X rewards on Top 2 spend categories. Points are credited instantly and never expire. Just swipe right to redeem. No more rounding off, get even fractional points.\\n\\nOne Credit Card EMI\\n\\nShop in full, pay in parts. No calls, no emails, no documentation. Get points on EMI transactions, repay EMIs with reward points. Manage EMIs from the EMI Dashboard.\\n\\nMyFamily\\n\\nShare limit with your family. They get their own One Credit Card with separate offers while you keep track and control of their spending.\\n\\nLearn More\\n\\nFrom Our\\n\\nBlog\\n\\nExplore Latest\\n\\nJun 04, 2024\\n\\nImpact of Credit Card on Personal Finance and Budgeting\\n\\nJun 04, 2024\\n\\nRole of Credit Cards in Personal Finances for New Professionals\\n\\nJun 04, 2024\\n\\nRuPay Credit Card Benefits: Explore the Benefits to Unlock the Best Savings\\n\\nView All\\n\\nBanking Partners\\n\\nOne Credit Card is a co-branded credit card issued by Scheduled commercial Banks and Financial Institutions in partnership with M/s One Consumer Services Private Limited. The issuing Banks/Financial Institutions are :\\n\\nInvestors\\n\\nWe are backed by marquee investors who share our vision, passion, and commitment to first principles.\\n\\n We are all ears!\\n\\n We are a new kid on the block, eager to learn.\\n            \\n\\nAll ideas and suggestions are welcome.\\n\\nFollow Us On\\n\\nOne Credit Card\\n\\nBOBCARD:  MITC  ,T&C , BT ,  KFS  , OneCash ,  EMI\\n\\nCSB Bank:  MITC  ,T&C, KFS ,EMI\\n\\nFederal Bank:  MITC ,  T&C ,  BT ,  KFS , F.D , EMI\\n\\nIDFC FIRST Bank:  MITC  ,  T&C\\n\\nSBM Bank:\\n\\nF.D ,\\n\\nMITC  ,\\n\\nKYC ,\\n\\nT&C ,\\n\\nKFS\\n\\nSBM Customer Care Details\\n\\nSBM\\n                Grievance\\n                Details\\n\\nSouth Indian Bank:  MITC ,\\n              T&C ,  BT  ,  KFS , EMI\\n\\nIndian Bank:  MITC ,\\n              T&C ,   KFS\\n\\nEMI:  T&C\\n\\nOneCash: \\n                T&C\\n\\nImportant Links\\n\\nCookie Policy\\n\\nDo Not Disturb\\n\\nPrivacy Policy\\n\\nTerms Of Use\\n\\nUnparliamentary language\\n\\nSecure Usage Tips\\n\\nAuthorized Collection Agencies\\n\\nDisclaimers\\n\\nCompany\\n\\nAbout Us\\n\\nJoin Us\\n\\nOne Credit Card Offers\\n\\nOur Blog\\n\\nPOSH @ Work\\n\\nOneScore\\n\\nCopyright © 2023 FPL Technologies Pvt. Ltd. All Rights Reserved.\", metadata={'source': 'https://www.getonecard.app/'})]"
            ]
          },
          "metadata": {},
          "execution_count": 8
        }
      ]
    },
    {
      "cell_type": "code",
      "source": [
        "text_splitter=CharacterTextSplitter(separator='\\n',\n",
        "                                    chunk_size=1000,\n",
        "                                    chunk_overlap=200)"
      ],
      "metadata": {
        "id": "6CxeizkgXafj"
      },
      "execution_count": 9,
      "outputs": []
    },
    {
      "cell_type": "code",
      "source": [
        "text_chunks=text_splitter.split_documents(data)"
      ],
      "metadata": {
        "id": "BViD4xnQYHOu"
      },
      "execution_count": 10,
      "outputs": []
    },
    {
      "cell_type": "code",
      "source": [
        "len(text_chunks)"
      ],
      "metadata": {
        "colab": {
          "base_uri": "https://localhost:8080/"
        },
        "id": "L_cTt5jAYHVP",
        "outputId": "91cd0fed-21ca-40c1-e4df-8895aa857eec"
      },
      "execution_count": 11,
      "outputs": [
        {
          "output_type": "execute_result",
          "data": {
            "text/plain": [
              "4"
            ]
          },
          "metadata": {},
          "execution_count": 11
        }
      ]
    },
    {
      "cell_type": "code",
      "source": [
        "!pip install tiktoken\n",
        "!pip install faiss-cpu"
      ],
      "metadata": {
        "colab": {
          "base_uri": "https://localhost:8080/"
        },
        "id": "oEq-TzfpYHYx",
        "outputId": "057660f6-7463-43ef-85b1-57785d6ae19d"
      },
      "execution_count": 12,
      "outputs": [
        {
          "output_type": "stream",
          "name": "stdout",
          "text": [
            "Requirement already satisfied: tiktoken in /usr/local/lib/python3.10/dist-packages (0.7.0)\n",
            "Requirement already satisfied: regex>=2022.1.18 in /usr/local/lib/python3.10/dist-packages (from tiktoken) (2024.5.15)\n",
            "Requirement already satisfied: requests>=2.26.0 in /usr/local/lib/python3.10/dist-packages (from tiktoken) (2.31.0)\n",
            "Requirement already satisfied: charset-normalizer<4,>=2 in /usr/local/lib/python3.10/dist-packages (from requests>=2.26.0->tiktoken) (3.3.2)\n",
            "Requirement already satisfied: idna<4,>=2.5 in /usr/local/lib/python3.10/dist-packages (from requests>=2.26.0->tiktoken) (3.7)\n",
            "Requirement already satisfied: urllib3<3,>=1.21.1 in /usr/local/lib/python3.10/dist-packages (from requests>=2.26.0->tiktoken) (2.0.7)\n",
            "Requirement already satisfied: certifi>=2017.4.17 in /usr/local/lib/python3.10/dist-packages (from requests>=2.26.0->tiktoken) (2024.6.2)\n",
            "Requirement already satisfied: faiss-cpu in /usr/local/lib/python3.10/dist-packages (1.8.0)\n",
            "Requirement already satisfied: numpy in /usr/local/lib/python3.10/dist-packages (from faiss-cpu) (1.25.2)\n"
          ]
        }
      ]
    },
    {
      "cell_type": "code",
      "source": [
        "\n",
        "!pip install sentence-transformers==2.2.2"
      ],
      "metadata": {
        "colab": {
          "base_uri": "https://localhost:8080/"
        },
        "id": "7VNDvKVAYwjv",
        "outputId": "e100d8b0-1938-4cc3-aba0-3b0be017bba9"
      },
      "execution_count": 13,
      "outputs": [
        {
          "output_type": "stream",
          "name": "stdout",
          "text": [
            "Requirement already satisfied: sentence-transformers==2.2.2 in /usr/local/lib/python3.10/dist-packages (2.2.2)\n",
            "Requirement already satisfied: transformers<5.0.0,>=4.6.0 in /usr/local/lib/python3.10/dist-packages (from sentence-transformers==2.2.2) (4.41.2)\n",
            "Requirement already satisfied: tqdm in /usr/local/lib/python3.10/dist-packages (from sentence-transformers==2.2.2) (4.66.4)\n",
            "Requirement already satisfied: torch>=1.6.0 in /usr/local/lib/python3.10/dist-packages (from sentence-transformers==2.2.2) (2.3.0+cu121)\n",
            "Requirement already satisfied: torchvision in /usr/local/lib/python3.10/dist-packages (from sentence-transformers==2.2.2) (0.18.0+cu121)\n",
            "Requirement already satisfied: numpy in /usr/local/lib/python3.10/dist-packages (from sentence-transformers==2.2.2) (1.25.2)\n",
            "Requirement already satisfied: scikit-learn in /usr/local/lib/python3.10/dist-packages (from sentence-transformers==2.2.2) (1.2.2)\n",
            "Requirement already satisfied: scipy in /usr/local/lib/python3.10/dist-packages (from sentence-transformers==2.2.2) (1.11.4)\n",
            "Requirement already satisfied: nltk in /usr/local/lib/python3.10/dist-packages (from sentence-transformers==2.2.2) (3.8.1)\n",
            "Requirement already satisfied: sentencepiece in /usr/local/lib/python3.10/dist-packages (from sentence-transformers==2.2.2) (0.1.99)\n",
            "Requirement already satisfied: huggingface-hub>=0.4.0 in /usr/local/lib/python3.10/dist-packages (from sentence-transformers==2.2.2) (0.23.3)\n",
            "Requirement already satisfied: filelock in /usr/local/lib/python3.10/dist-packages (from huggingface-hub>=0.4.0->sentence-transformers==2.2.2) (3.14.0)\n",
            "Requirement already satisfied: fsspec>=2023.5.0 in /usr/local/lib/python3.10/dist-packages (from huggingface-hub>=0.4.0->sentence-transformers==2.2.2) (2023.6.0)\n",
            "Requirement already satisfied: packaging>=20.9 in /usr/local/lib/python3.10/dist-packages (from huggingface-hub>=0.4.0->sentence-transformers==2.2.2) (24.1)\n",
            "Requirement already satisfied: pyyaml>=5.1 in /usr/local/lib/python3.10/dist-packages (from huggingface-hub>=0.4.0->sentence-transformers==2.2.2) (6.0.1)\n",
            "Requirement already satisfied: requests in /usr/local/lib/python3.10/dist-packages (from huggingface-hub>=0.4.0->sentence-transformers==2.2.2) (2.31.0)\n",
            "Requirement already satisfied: typing-extensions>=3.7.4.3 in /usr/local/lib/python3.10/dist-packages (from huggingface-hub>=0.4.0->sentence-transformers==2.2.2) (4.12.2)\n",
            "Requirement already satisfied: sympy in /usr/local/lib/python3.10/dist-packages (from torch>=1.6.0->sentence-transformers==2.2.2) (1.12.1)\n",
            "Requirement already satisfied: networkx in /usr/local/lib/python3.10/dist-packages (from torch>=1.6.0->sentence-transformers==2.2.2) (3.3)\n",
            "Requirement already satisfied: jinja2 in /usr/local/lib/python3.10/dist-packages (from torch>=1.6.0->sentence-transformers==2.2.2) (3.1.4)\n",
            "Requirement already satisfied: nvidia-cuda-nvrtc-cu12==12.1.105 in /usr/local/lib/python3.10/dist-packages (from torch>=1.6.0->sentence-transformers==2.2.2) (12.1.105)\n",
            "Requirement already satisfied: nvidia-cuda-runtime-cu12==12.1.105 in /usr/local/lib/python3.10/dist-packages (from torch>=1.6.0->sentence-transformers==2.2.2) (12.1.105)\n",
            "Requirement already satisfied: nvidia-cuda-cupti-cu12==12.1.105 in /usr/local/lib/python3.10/dist-packages (from torch>=1.6.0->sentence-transformers==2.2.2) (12.1.105)\n",
            "Requirement already satisfied: nvidia-cudnn-cu12==8.9.2.26 in /usr/local/lib/python3.10/dist-packages (from torch>=1.6.0->sentence-transformers==2.2.2) (8.9.2.26)\n",
            "Requirement already satisfied: nvidia-cublas-cu12==12.1.3.1 in /usr/local/lib/python3.10/dist-packages (from torch>=1.6.0->sentence-transformers==2.2.2) (12.1.3.1)\n",
            "Requirement already satisfied: nvidia-cufft-cu12==11.0.2.54 in /usr/local/lib/python3.10/dist-packages (from torch>=1.6.0->sentence-transformers==2.2.2) (11.0.2.54)\n",
            "Requirement already satisfied: nvidia-curand-cu12==10.3.2.106 in /usr/local/lib/python3.10/dist-packages (from torch>=1.6.0->sentence-transformers==2.2.2) (10.3.2.106)\n",
            "Requirement already satisfied: nvidia-cusolver-cu12==11.4.5.107 in /usr/local/lib/python3.10/dist-packages (from torch>=1.6.0->sentence-transformers==2.2.2) (11.4.5.107)\n",
            "Requirement already satisfied: nvidia-cusparse-cu12==12.1.0.106 in /usr/local/lib/python3.10/dist-packages (from torch>=1.6.0->sentence-transformers==2.2.2) (12.1.0.106)\n",
            "Requirement already satisfied: nvidia-nccl-cu12==2.20.5 in /usr/local/lib/python3.10/dist-packages (from torch>=1.6.0->sentence-transformers==2.2.2) (2.20.5)\n",
            "Requirement already satisfied: nvidia-nvtx-cu12==12.1.105 in /usr/local/lib/python3.10/dist-packages (from torch>=1.6.0->sentence-transformers==2.2.2) (12.1.105)\n",
            "Requirement already satisfied: triton==2.3.0 in /usr/local/lib/python3.10/dist-packages (from torch>=1.6.0->sentence-transformers==2.2.2) (2.3.0)\n",
            "Requirement already satisfied: nvidia-nvjitlink-cu12 in /usr/local/lib/python3.10/dist-packages (from nvidia-cusolver-cu12==11.4.5.107->torch>=1.6.0->sentence-transformers==2.2.2) (12.5.40)\n",
            "Requirement already satisfied: regex!=2019.12.17 in /usr/local/lib/python3.10/dist-packages (from transformers<5.0.0,>=4.6.0->sentence-transformers==2.2.2) (2024.5.15)\n",
            "Requirement already satisfied: tokenizers<0.20,>=0.19 in /usr/local/lib/python3.10/dist-packages (from transformers<5.0.0,>=4.6.0->sentence-transformers==2.2.2) (0.19.1)\n",
            "Requirement already satisfied: safetensors>=0.4.1 in /usr/local/lib/python3.10/dist-packages (from transformers<5.0.0,>=4.6.0->sentence-transformers==2.2.2) (0.4.3)\n",
            "Requirement already satisfied: click in /usr/local/lib/python3.10/dist-packages (from nltk->sentence-transformers==2.2.2) (8.1.7)\n",
            "Requirement already satisfied: joblib in /usr/local/lib/python3.10/dist-packages (from nltk->sentence-transformers==2.2.2) (1.4.2)\n",
            "Requirement already satisfied: threadpoolctl>=2.0.0 in /usr/local/lib/python3.10/dist-packages (from scikit-learn->sentence-transformers==2.2.2) (3.5.0)\n",
            "Requirement already satisfied: pillow!=8.3.*,>=5.3.0 in /usr/local/lib/python3.10/dist-packages (from torchvision->sentence-transformers==2.2.2) (9.4.0)\n",
            "Requirement already satisfied: MarkupSafe>=2.0 in /usr/local/lib/python3.10/dist-packages (from jinja2->torch>=1.6.0->sentence-transformers==2.2.2) (2.1.5)\n",
            "Requirement already satisfied: charset-normalizer<4,>=2 in /usr/local/lib/python3.10/dist-packages (from requests->huggingface-hub>=0.4.0->sentence-transformers==2.2.2) (3.3.2)\n",
            "Requirement already satisfied: idna<4,>=2.5 in /usr/local/lib/python3.10/dist-packages (from requests->huggingface-hub>=0.4.0->sentence-transformers==2.2.2) (3.7)\n",
            "Requirement already satisfied: urllib3<3,>=1.21.1 in /usr/local/lib/python3.10/dist-packages (from requests->huggingface-hub>=0.4.0->sentence-transformers==2.2.2) (2.0.7)\n",
            "Requirement already satisfied: certifi>=2017.4.17 in /usr/local/lib/python3.10/dist-packages (from requests->huggingface-hub>=0.4.0->sentence-transformers==2.2.2) (2024.6.2)\n",
            "Requirement already satisfied: mpmath<1.4.0,>=1.1.0 in /usr/local/lib/python3.10/dist-packages (from sympy->torch>=1.6.0->sentence-transformers==2.2.2) (1.3.0)\n"
          ]
        }
      ]
    },
    {
      "cell_type": "code",
      "source": [
        "embeddings = HuggingFaceEmbeddings(model_name=\"sentence-transformers/all-MiniLM-L6-v2\")"
      ],
      "metadata": {
        "colab": {
          "base_uri": "https://localhost:8080/"
        },
        "id": "xqfKVelvYHbt",
        "outputId": "6ce60885-95fd-4a26-eb72-d7ff1bc40662"
      },
      "execution_count": 14,
      "outputs": [
        {
          "output_type": "stream",
          "name": "stderr",
          "text": [
            "/usr/local/lib/python3.10/dist-packages/langchain_core/_api/deprecation.py:119: LangChainDeprecationWarning: The class `HuggingFaceEmbeddings` was deprecated in LangChain 0.2.2 and will be removed in 0.3.0. An updated version of the class exists in the langchain-huggingface package and should be used instead. To use it run `pip install -U langchain-huggingface` and import as `from langchain_huggingface import HuggingFaceEmbeddings`.\n",
            "  warn_deprecated(\n"
          ]
        }
      ]
    },
    {
      "cell_type": "code",
      "source": [
        "from langchain.vectorstores import FAISS\n",
        "vectorstore=FAISS.from_documents(text_chunks, embeddings)\n",
        "query = \"What are the features of onecard?\"\n",
        "docs = vectorstore.similarity_search(query, k=3)"
      ],
      "metadata": {
        "id": "yRWEcVGJYplU"
      },
      "execution_count": 15,
      "outputs": []
    },
    {
      "cell_type": "code",
      "source": [
        "docs"
      ],
      "metadata": {
        "colab": {
          "base_uri": "https://localhost:8080/"
        },
        "id": "qBbXt8CPYpo5",
        "outputId": "7b2b9e1f-4c1c-48d2-8bf7-d6f41348b638"
      },
      "execution_count": 16,
      "outputs": [
        {
          "output_type": "execute_result",
          "data": {
            "text/plain": [
              "[Document(page_content='Jun 04, 2024\\nRole of Credit Cards in Personal Finances for New Professionals\\nJun 04, 2024\\nRuPay Credit Card Benefits: Explore the Benefits to Unlock the Best Savings\\nView All\\nBanking Partners\\nOne Credit Card is a co-branded credit card issued by Scheduled commercial Banks and Financial Institutions in partnership with M/s One Consumer Services Private Limited. The issuing Banks/Financial Institutions are :\\nInvestors\\nWe are backed by marquee investors who share our vision, passion, and commitment to first principles.\\n We are all ears!\\n We are a new kid on the block, eager to learn.\\n            \\nAll ideas and suggestions are welcome.\\nFollow Us On\\nOne Credit Card\\nBOBCARD:  MITC  ,T&C , BT ,  KFS  , OneCash ,  EMI\\nCSB Bank:  MITC  ,T&C, KFS ,EMI\\nFederal Bank:  MITC ,  T&C ,  BT ,  KFS , F.D , EMI\\nIDFC FIRST Bank:  MITC  ,  T&C\\nSBM Bank:\\nF.D ,\\nMITC  ,\\nKYC ,\\nT&C ,\\nKFS\\nSBM Customer Care Details\\nSBM\\n                Grievance\\n                Details\\nSouth Indian Bank:  MITC ,', metadata={'source': 'https://www.getonecard.app/'}),\n",
              " Document(page_content=\"Apply Now\\nHome\\nAbout Us\\nOffers\\nBlog\\nFAQ\\nContact Us\\nSay Hi to\\nOne Credit Card\\nCo-branded Card Issuers :\\nIndia's best metal credit card. Built with full-stack tech. Backed by the principles of simplicity,\\n            transparency, and giving back control to the user.\\nApply Now\\nNo Hidden Fees Ever.\\nNo Joining Fees.\\nNo Annual Fees.\\nNo Rewards Redemption Fees.\\n            Powerful \\nmobile app\\nControl all aspects of your One credit card from the powerful OneCard app - transaction limit, domestic/international use, online/offline use, contactless payments and much more.\\nIt's metal\\nA co-branded credit card that is exclusive, and exquisitely crafted with metal, because you deserve only the best. Why settle for plastic cards anymore?\\n            Seamless\\n            \\non-boarding\\nGet started using a completely digital on-boarding process, and activate your One Credit Card in less than 5 minutes.\\n5X rewards on your top spends\", metadata={'source': 'https://www.getonecard.app/'}),\n",
              " Document(page_content='Seamless\\n            \\non-boarding\\nGet started using a completely digital on-boarding process, and activate your One Credit Card in less than 5 minutes.\\n5X rewards on your top spends\\n5X rewards on Top 2 spend categories. Points are credited instantly and never expire. Just swipe right to redeem. No more rounding off, get even fractional points.\\nOne Credit Card EMI\\nShop in full, pay in parts. No calls, no emails, no documentation. Get points on EMI transactions, repay EMIs with reward points. Manage EMIs from the EMI Dashboard.\\nMyFamily\\nShare limit with your family. They get their own One Credit Card with separate offers while you keep track and control of their spending.\\nLearn More\\nFrom Our\\nBlog\\nExplore Latest\\nJun 04, 2024\\nImpact of Credit Card on Personal Finance and Budgeting\\nJun 04, 2024\\nRole of Credit Cards in Personal Finances for New Professionals\\nJun 04, 2024\\nRuPay Credit Card Benefits: Explore the Benefits to Unlock the Best Savings\\nView All\\nBanking Partners', metadata={'source': 'https://www.getonecard.app/'})]"
            ]
          },
          "metadata": {},
          "execution_count": 16
        }
      ]
    },
    {
      "cell_type": "code",
      "source": [],
      "metadata": {
        "id": "Ktg1dp-sYpr3"
      },
      "execution_count": 16,
      "outputs": []
    },
    {
      "cell_type": "code",
      "source": [],
      "metadata": {
        "id": "LrxV4pgAXah2"
      },
      "execution_count": 16,
      "outputs": []
    },
    {
      "cell_type": "code",
      "source": [
        "!huggingface-cli login"
      ],
      "metadata": {
        "colab": {
          "base_uri": "https://localhost:8080/"
        },
        "id": "h1AY4oKtBVMA",
        "outputId": "c0214d81-4aaf-4f5d-bdeb-a48b6809cf09"
      },
      "execution_count": 17,
      "outputs": [
        {
          "output_type": "stream",
          "name": "stdout",
          "text": [
            "\n",
            "    _|    _|  _|    _|    _|_|_|    _|_|_|  _|_|_|  _|      _|    _|_|_|      _|_|_|_|    _|_|      _|_|_|  _|_|_|_|\n",
            "    _|    _|  _|    _|  _|        _|          _|    _|_|    _|  _|            _|        _|    _|  _|        _|\n",
            "    _|_|_|_|  _|    _|  _|  _|_|  _|  _|_|    _|    _|  _|  _|  _|  _|_|      _|_|_|    _|_|_|_|  _|        _|_|_|\n",
            "    _|    _|  _|    _|  _|    _|  _|    _|    _|    _|    _|_|  _|    _|      _|        _|    _|  _|        _|\n",
            "    _|    _|    _|_|      _|_|_|    _|_|_|  _|_|_|  _|      _|    _|_|_|      _|        _|    _|    _|_|_|  _|_|_|_|\n",
            "\n",
            "    A token is already saved on your machine. Run `huggingface-cli whoami` to get more information or `huggingface-cli logout` if you want to log out.\n",
            "    Setting a new token will erase the existing one.\n",
            "    To login, `huggingface_hub` requires a token generated from https://huggingface.co/settings/tokens .\n",
            "Enter your token (input will not be visible): \n",
            "Add token as git credential? (Y/n) Y\n",
            "Token is valid (permission: read).\n",
            "\u001b[1m\u001b[31mCannot authenticate through git-credential as no helper is defined on your machine.\n",
            "You might have to re-authenticate when pushing to the Hugging Face Hub.\n",
            "Run the following command in your terminal in case you want to set the 'store' credential helper as default.\n",
            "\n",
            "git config --global credential.helper store\n",
            "\n",
            "Read https://git-scm.com/book/en/v2/Git-Tools-Credential-Storage for more details.\u001b[0m\n",
            "Token has not been saved to git credential helper.\n",
            "Your token has been saved to /root/.cache/huggingface/token\n",
            "Login successful\n"
          ]
        }
      ]
    },
    {
      "cell_type": "code",
      "source": [
        "#mport All the Required Libraries\n",
        "from langchain.llms import HuggingFacePipeline"
      ],
      "metadata": {
        "id": "vRhCWqxdBVJW"
      },
      "execution_count": 18,
      "outputs": []
    },
    {
      "cell_type": "code",
      "source": [
        "from transformers import AutoTokenizer"
      ],
      "metadata": {
        "id": "zc0L2u7WCgo5"
      },
      "execution_count": 19,
      "outputs": []
    },
    {
      "cell_type": "code",
      "source": [
        "from transformers import AutoModelForCausalLM"
      ],
      "metadata": {
        "id": "LowDoKpjGzEO"
      },
      "execution_count": 20,
      "outputs": []
    },
    {
      "cell_type": "code",
      "source": [
        "import transformers\n",
        "import torch"
      ],
      "metadata": {
        "id": "QifYPHB2Cml1"
      },
      "execution_count": 21,
      "outputs": []
    },
    {
      "cell_type": "code",
      "source": [
        "model=\"meta-llama/Llama-2-7b-chat-hf\"\n",
        "# model=\"daryl149/llama-2-7b-chat-hf\""
      ],
      "metadata": {
        "id": "LOrJVKpdCph3"
      },
      "execution_count": 22,
      "outputs": []
    },
    {
      "cell_type": "code",
      "source": [
        "tokenizer=AutoTokenizer.from_pretrained(model)"
      ],
      "metadata": {
        "id": "pR5e8yU9DGFm",
        "colab": {
          "base_uri": "https://localhost:8080/"
        },
        "outputId": "d4f32491-487c-4455-fcf5-e8a4598b8286"
      },
      "execution_count": 23,
      "outputs": [
        {
          "output_type": "stream",
          "name": "stderr",
          "text": [
            "/usr/local/lib/python3.10/dist-packages/huggingface_hub/utils/_token.py:89: UserWarning: \n",
            "The secret `HF_TOKEN` does not exist in your Colab secrets.\n",
            "To authenticate with the Hugging Face Hub, create a token in your settings tab (https://huggingface.co/settings/tokens), set it as secret in your Google Colab and restart your session.\n",
            "You will be able to reuse this secret in all of your notebooks.\n",
            "Please note that authentication is recommended but still optional to access public models or datasets.\n",
            "  warnings.warn(\n"
          ]
        }
      ]
    },
    {
      "cell_type": "code",
      "source": [
        "pipeline=transformers.pipeline(\n",
        "    \"text-generation\",\n",
        "    model=model,\n",
        "    tokenizer=tokenizer,\n",
        "    torch_dtype=torch.bfloat16,\n",
        "    trust_remote_code=True,\n",
        "    device_map=\"auto\",\n",
        "    max_length=1500,\n",
        "    max_new_tokens=100,\n",
        "    do_sample=True,\n",
        "    top_k=10,\n",
        "    num_return_sequences=1,\n",
        "    eos_token_id=tokenizer.eos_token_id\n",
        "    )"
      ],
      "metadata": {
        "colab": {
          "base_uri": "https://localhost:8080/",
          "height": 49,
          "referenced_widgets": [
            "3a8d7ce5ea984725aeaf7b83150e1030",
            "8356b818368b4865975f5e637f4ffdc8",
            "ea8ed22b9e504c3eb9bc2edb8df42ea8",
            "1c99cc33ca434256869a9bbf06912001",
            "71c0b6f9e1c2459788a38fd02d9ff59a",
            "fa65cd8ca797410388187a2b370c4dd6",
            "d322246f3ef34461a269cfe187092991",
            "8fb60e5c95ee44e991522632d7f64ced",
            "a7505e748ed34cb5b17362beb1b9bd6f",
            "55d91aa90a5d4436b227360e67419237",
            "c273e070a359476aa5e57661da8387d0"
          ]
        },
        "id": "cjydqHWyDd65",
        "outputId": "4c22ac08-5acb-469b-daaa-cc4aa3d5e0c9"
      },
      "execution_count": 24,
      "outputs": [
        {
          "output_type": "display_data",
          "data": {
            "text/plain": [
              "Loading checkpoint shards:   0%|          | 0/2 [00:00<?, ?it/s]"
            ],
            "application/vnd.jupyter.widget-view+json": {
              "version_major": 2,
              "version_minor": 0,
              "model_id": "3a8d7ce5ea984725aeaf7b83150e1030"
            }
          },
          "metadata": {}
        }
      ]
    },
    {
      "cell_type": "code",
      "source": [
        "llm=HuggingFacePipeline(pipeline=pipeline, model_kwargs={'temperature':0})"
      ],
      "metadata": {
        "id": "ymGZvYOvDd4X",
        "colab": {
          "base_uri": "https://localhost:8080/"
        },
        "outputId": "81114191-9ff0-44f3-d5d1-b955e064f16e"
      },
      "execution_count": 25,
      "outputs": [
        {
          "output_type": "stream",
          "name": "stderr",
          "text": [
            "/usr/local/lib/python3.10/dist-packages/langchain_core/_api/deprecation.py:119: LangChainDeprecationWarning: The class `HuggingFacePipeline` was deprecated in LangChain 0.0.37 and will be removed in 0.3. An updated version of the class exists in the langchain-huggingface package and should be used instead. To use it run `pip install -U langchain-huggingface` and import as `from langchain_huggingface import HuggingFacePipeline`.\n",
            "  warn_deprecated(\n"
          ]
        }
      ]
    },
    {
      "cell_type": "code",
      "source": [
        "prompt=\"What would be a good name for a company that makes colorful socks\""
      ],
      "metadata": {
        "id": "_G4dHZi0E160"
      },
      "execution_count": 26,
      "outputs": []
    },
    {
      "cell_type": "code",
      "source": [
        "print(llm(prompt))"
      ],
      "metadata": {
        "colab": {
          "base_uri": "https://localhost:8080/"
        },
        "id": "iIjpBnajE14n",
        "outputId": "bd3a502c-9d8e-4cc1-bbf6-af0cb593836e"
      },
      "execution_count": 27,
      "outputs": [
        {
          "output_type": "stream",
          "name": "stderr",
          "text": [
            "/usr/local/lib/python3.10/dist-packages/langchain_core/_api/deprecation.py:119: LangChainDeprecationWarning: The method `BaseLLM.__call__` was deprecated in langchain-core 0.1.7 and will be removed in 0.3.0. Use invoke instead.\n",
            "  warn_deprecated(\n",
            "Truncation was not explicitly activated but `max_length` is provided a specific value, please use `truncation=True` to explicitly truncate examples to max length. Defaulting to 'longest_first' truncation strategy. If you encode pairs of sequences (GLUE-style) with the tokenizer you can select this strategy more precisely by providing a specific strategy to `truncation`.\n",
            "Both `max_new_tokens` (=100) and `max_length`(=1500) seem to have been set. `max_new_tokens` will take precedence. Please refer to the documentation for more information. (https://huggingface.co/docs/transformers/main/en/main_classes/text_generation)\n"
          ]
        },
        {
          "output_type": "stream",
          "name": "stdout",
          "text": [
            "What would be a good name for a company that makes colorful socks?\n",
            "\n",
            "Answer: Here are some suggestions for a company name that makes colorful socks:\n",
            "\n",
            "1. SoleMates: This name plays on the idea of socks being a companion for your feet, and also references the word \"soul\" to imply a connection to the wearer's emotions and personality.\n",
            "2. Footloose & Fancy Free: This name conveys a sense of fun and freedom, which is perfect for a company that\n"
          ]
        }
      ]
    },
    {
      "cell_type": "code",
      "source": [
        "from langchain.chains import RetrievalQA\n",
        "qa = RetrievalQA.from_chain_type(llm=llm, chain_type=\"stuff\", retriever=vectorstore.as_retriever())\n",
        "query = \"what are the features of card provided by onecard\"\n"
      ],
      "metadata": {
        "id": "LqbjudBqFh7t"
      },
      "execution_count": 28,
      "outputs": []
    },
    {
      "cell_type": "code",
      "source": [
        "print(qa.run(query))"
      ],
      "metadata": {
        "colab": {
          "base_uri": "https://localhost:8080/"
        },
        "id": "34tN1ytxa1dW",
        "outputId": "1b21c1df-8a8e-4017-d422-7d2f025b4f3d"
      },
      "execution_count": 29,
      "outputs": [
        {
          "output_type": "stream",
          "name": "stderr",
          "text": [
            "/usr/local/lib/python3.10/dist-packages/langchain_core/_api/deprecation.py:119: LangChainDeprecationWarning: The method `Chain.run` was deprecated in langchain 0.1.0 and will be removed in 0.3.0. Use invoke instead.\n",
            "  warn_deprecated(\n",
            "Both `max_new_tokens` (=100) and `max_length`(=1500) seem to have been set. `max_new_tokens` will take precedence. Please refer to the documentation for more information. (https://huggingface.co/docs/transformers/main/en/main_classes/text_generation)\n"
          ]
        },
        {
          "output_type": "stream",
          "name": "stdout",
          "text": [
            "Use the following pieces of context to answer the question at the end. If you don't know the answer, just say that you don't know, don't try to make up an answer.\n",
            "\n",
            "Apply Now\n",
            "Home\n",
            "About Us\n",
            "Offers\n",
            "Blog\n",
            "FAQ\n",
            "Contact Us\n",
            "Say Hi to\n",
            "One Credit Card\n",
            "Co-branded Card Issuers :\n",
            "India's best metal credit card. Built with full-stack tech. Backed by the principles of simplicity,\n",
            "            transparency, and giving back control to the user.\n",
            "Apply Now\n",
            "No Hidden Fees Ever.\n",
            "No Joining Fees.\n",
            "No Annual Fees.\n",
            "No Rewards Redemption Fees.\n",
            "            Powerful \n",
            "mobile app\n",
            "Control all aspects of your One credit card from the powerful OneCard app - transaction limit, domestic/international use, online/offline use, contactless payments and much more.\n",
            "It's metal\n",
            "A co-branded credit card that is exclusive, and exquisitely crafted with metal, because you deserve only the best. Why settle for plastic cards anymore?\n",
            "            Seamless\n",
            "            \n",
            "on-boarding\n",
            "Get started using a completely digital on-boarding process, and activate your One Credit Card in less than 5 minutes.\n",
            "5X rewards on your top spends\n",
            "\n",
            "Jun 04, 2024\n",
            "Role of Credit Cards in Personal Finances for New Professionals\n",
            "Jun 04, 2024\n",
            "RuPay Credit Card Benefits: Explore the Benefits to Unlock the Best Savings\n",
            "View All\n",
            "Banking Partners\n",
            "One Credit Card is a co-branded credit card issued by Scheduled commercial Banks and Financial Institutions in partnership with M/s One Consumer Services Private Limited. The issuing Banks/Financial Institutions are :\n",
            "Investors\n",
            "We are backed by marquee investors who share our vision, passion, and commitment to first principles.\n",
            " We are all ears!\n",
            " We are a new kid on the block, eager to learn.\n",
            "            \n",
            "All ideas and suggestions are welcome.\n",
            "Follow Us On\n",
            "One Credit Card\n",
            "BOBCARD:  MITC  ,T&C , BT ,  KFS  , OneCash ,  EMI\n",
            "CSB Bank:  MITC  ,T&C, KFS ,EMI\n",
            "Federal Bank:  MITC ,  T&C ,  BT ,  KFS , F.D , EMI\n",
            "IDFC FIRST Bank:  MITC  ,  T&C\n",
            "SBM Bank:\n",
            "F.D ,\n",
            "MITC  ,\n",
            "KYC ,\n",
            "T&C ,\n",
            "KFS\n",
            "SBM Customer Care Details\n",
            "SBM\n",
            "                Grievance\n",
            "                Details\n",
            "South Indian Bank:  MITC ,\n",
            "\n",
            "Seamless\n",
            "            \n",
            "on-boarding\n",
            "Get started using a completely digital on-boarding process, and activate your One Credit Card in less than 5 minutes.\n",
            "5X rewards on your top spends\n",
            "5X rewards on Top 2 spend categories. Points are credited instantly and never expire. Just swipe right to redeem. No more rounding off, get even fractional points.\n",
            "One Credit Card EMI\n",
            "Shop in full, pay in parts. No calls, no emails, no documentation. Get points on EMI transactions, repay EMIs with reward points. Manage EMIs from the EMI Dashboard.\n",
            "MyFamily\n",
            "Share limit with your family. They get their own One Credit Card with separate offers while you keep track and control of their spending.\n",
            "Learn More\n",
            "From Our\n",
            "Blog\n",
            "Explore Latest\n",
            "Jun 04, 2024\n",
            "Impact of Credit Card on Personal Finance and Budgeting\n",
            "Jun 04, 2024\n",
            "Role of Credit Cards in Personal Finances for New Professionals\n",
            "Jun 04, 2024\n",
            "RuPay Credit Card Benefits: Explore the Benefits to Unlock the Best Savings\n",
            "View All\n",
            "Banking Partners\n",
            "\n",
            "IDFC FIRST Bank:  MITC  ,  T&C\n",
            "SBM Bank:\n",
            "F.D ,\n",
            "MITC  ,\n",
            "KYC ,\n",
            "T&C ,\n",
            "KFS\n",
            "SBM Customer Care Details\n",
            "SBM\n",
            "                Grievance\n",
            "                Details\n",
            "South Indian Bank:  MITC ,\n",
            "              T&C ,  BT  ,  KFS , EMI\n",
            "Indian Bank:  MITC ,\n",
            "              T&C ,   KFS\n",
            "EMI:  T&C\n",
            "OneCash: \n",
            "                T&C\n",
            "Important Links\n",
            "Cookie Policy\n",
            "Do Not Disturb\n",
            "Privacy Policy\n",
            "Terms Of Use\n",
            "Unparliamentary language\n",
            "Secure Usage Tips\n",
            "Authorized Collection Agencies\n",
            "Disclaimers\n",
            "Company\n",
            "About Us\n",
            "Join Us\n",
            "One Credit Card Offers\n",
            "Our Blog\n",
            "POSH @ Work\n",
            "OneScore\n",
            "Copyright © 2023 FPL Technologies Pvt. Ltd. All Rights Reserved.\n",
            "\n",
            "Question: what are the features of card provided by onecard\n",
            "Helpful Answer: OnECard offers several features such as no hidden fees, no joining fees, no annual fees, no rewards redemption fees, powerful mobile app, control all aspects of your One Credit Card from the powerful OneCard app, exclusive and exquisitely crafted with metal, seamless on-boarding, 5X rewards on top spends, 5X rewards on top 2 spend categories, points are credited instantly and never\n"
          ]
        }
      ]
    },
    {
      "cell_type": "code",
      "source": [],
      "metadata": {
        "id": "c9u8VydVeBeb"
      },
      "execution_count": null,
      "outputs": []
    }
  ]
}